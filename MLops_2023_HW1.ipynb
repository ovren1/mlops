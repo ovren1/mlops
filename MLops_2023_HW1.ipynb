{
  "cells": [
    {
      "cell_type": "code",
      "execution_count": 1,
      "id": "6633e876-f5c6-48b6-9538-a5f55058cb2d",
      "metadata": {
        "colab": {
          "base_uri": "https://localhost:8080/"
        },
        "id": "6633e876-f5c6-48b6-9538-a5f55058cb2d",
        "outputId": "ae456cf3-6b24-4f76-b071-6c051e6a18ac"
      },
      "outputs": [
        {
          "output_type": "stream",
          "name": "stdout",
          "text": [
            "Looking in indexes: https://pypi.org/simple, https://us-python.pkg.dev/colab-wheels/public/simple/\n",
            "Requirement already satisfied: pyarrow in /usr/local/lib/python3.10/dist-packages (9.0.0)\n",
            "Requirement already satisfied: numpy>=1.16.6 in /usr/local/lib/python3.10/dist-packages (from pyarrow) (1.22.4)\n"
          ]
        }
      ],
      "source": [
        "!pip install pyarrow"
      ]
    },
    {
      "cell_type": "code",
      "execution_count": 4,
      "id": "a3409394-fcdb-40a7-8863-bd551ff593a5",
      "metadata": {
        "id": "a3409394-fcdb-40a7-8863-bd551ff593a5"
      },
      "outputs": [],
      "source": [
        "import pandas as pd\n",
        "df_jan = pd.read_parquet('/content/yellow_tripdata_2022-01.parquet', engine='pyarrow')\n",
        "#df_feb = pd.read_parquet('yellow_tripdata_2022-02.parquet', engine='pyarrow')"
      ]
    },
    {
      "cell_type": "code",
      "execution_count": 14,
      "id": "716e45ea-c67b-4121-b361-7d3b6801d870",
      "metadata": {
        "id": "716e45ea-c67b-4121-b361-7d3b6801d870"
      },
      "outputs": [],
      "source": [
        "import numpy as np\n",
        "from sklearn.feature_extraction import DictVectorizer"
      ]
    },
    {
      "cell_type": "code",
      "execution_count": 6,
      "id": "92bb14f4-b45c-48d8-9506-ecebff1cfe78",
      "metadata": {
        "colab": {
          "base_uri": "https://localhost:8080/"
        },
        "id": "92bb14f4-b45c-48d8-9506-ecebff1cfe78",
        "outputId": "75a9aaf3-a044-4252-fcfd-d49a0cb02591"
      },
      "outputs": [
        {
          "output_type": "execute_result",
          "data": {
            "text/plain": [
              "(2463931, 19)"
            ]
          },
          "metadata": {},
          "execution_count": 6
        }
      ],
      "source": [
        "df_jan.shape"
      ]
    },
    {
      "cell_type": "code",
      "execution_count": 7,
      "id": "43e2f3d6-3b2c-4a73-bcc6-c78ff0d8127c",
      "metadata": {
        "id": "43e2f3d6-3b2c-4a73-bcc6-c78ff0d8127c"
      },
      "outputs": [],
      "source": [
        "df_jan['duration'] = (df_jan.tpep_dropoff_datetime - df_jan.tpep_pickup_datetime )/pd.Timedelta(minutes=1)"
      ]
    },
    {
      "cell_type": "code",
      "execution_count": 8,
      "id": "2f61707c-b3c1-4c23-8f89-664d5ccc2438",
      "metadata": {
        "id": "2f61707c-b3c1-4c23-8f89-664d5ccc2438"
      },
      "outputs": [],
      "source": [
        "df_jan = df_jan[(df_jan.duration >= 1) & (df_jan.duration <= 60)]"
      ]
    },
    {
      "cell_type": "code",
      "execution_count": 9,
      "id": "630a3aed-3eca-44da-948a-14ee750e19da",
      "metadata": {
        "colab": {
          "base_uri": "https://localhost:8080/",
          "height": 487
        },
        "id": "630a3aed-3eca-44da-948a-14ee750e19da",
        "outputId": "a7631a1f-4b3c-4063-96d8-915a1ea42ca2"
      },
      "outputs": [
        {
          "output_type": "execute_result",
          "data": {
            "text/plain": [
              "         VendorID tpep_pickup_datetime tpep_dropoff_datetime  passenger_count  \\\n",
              "0               1  2022-01-01 00:35:40   2022-01-01 00:53:29              2.0   \n",
              "1               1  2022-01-01 00:33:43   2022-01-01 00:42:07              1.0   \n",
              "2               2  2022-01-01 00:53:21   2022-01-01 01:02:19              1.0   \n",
              "3               2  2022-01-01 00:25:21   2022-01-01 00:35:23              1.0   \n",
              "4               2  2022-01-01 00:36:48   2022-01-01 01:14:20              1.0   \n",
              "...           ...                  ...                   ...              ...   \n",
              "2463926         2  2022-01-31 23:36:53   2022-01-31 23:42:51              NaN   \n",
              "2463927         2  2022-01-31 23:44:22   2022-01-31 23:55:01              NaN   \n",
              "2463928         2  2022-01-31 23:39:00   2022-01-31 23:50:00              NaN   \n",
              "2463929         2  2022-01-31 23:36:42   2022-01-31 23:48:45              NaN   \n",
              "2463930         2  2022-01-31 23:46:00   2022-02-01 00:13:00              NaN   \n",
              "\n",
              "         trip_distance  RatecodeID store_and_fwd_flag  PULocationID  \\\n",
              "0                 3.80         1.0                  N           142   \n",
              "1                 2.10         1.0                  N           236   \n",
              "2                 0.97         1.0                  N           166   \n",
              "3                 1.09         1.0                  N           114   \n",
              "4                 4.30         1.0                  N            68   \n",
              "...                ...         ...                ...           ...   \n",
              "2463926           1.32         NaN               None            90   \n",
              "2463927           4.19         NaN               None           107   \n",
              "2463928           2.10         NaN               None           113   \n",
              "2463929           2.92         NaN               None           148   \n",
              "2463930           8.94         NaN               None           186   \n",
              "\n",
              "         DOLocationID  payment_type  fare_amount  extra  mta_tax  tip_amount  \\\n",
              "0                 236             1        14.50    3.0      0.5        3.65   \n",
              "1                  42             1         8.00    0.5      0.5        4.00   \n",
              "2                 166             1         7.50    0.5      0.5        1.76   \n",
              "3                  68             2         8.00    0.5      0.5        0.00   \n",
              "4                 163             1        23.50    0.5      0.5        3.00   \n",
              "...               ...           ...          ...    ...      ...         ...   \n",
              "2463926           170             0         8.00    0.0      0.5        2.39   \n",
              "2463927            75             0        16.80    0.0      0.5        4.35   \n",
              "2463928           246             0        11.22    0.0      0.5        2.00   \n",
              "2463929           164             0        12.40    0.0      0.5        0.00   \n",
              "2463930           181             0        25.48    0.0      0.5        6.28   \n",
              "\n",
              "         tolls_amount  improvement_surcharge  total_amount  \\\n",
              "0                 0.0                    0.3         21.95   \n",
              "1                 0.0                    0.3         13.30   \n",
              "2                 0.0                    0.3         10.56   \n",
              "3                 0.0                    0.3         11.80   \n",
              "4                 0.0                    0.3         30.30   \n",
              "...               ...                    ...           ...   \n",
              "2463926           0.0                    0.3         13.69   \n",
              "2463927           0.0                    0.3         24.45   \n",
              "2463928           0.0                    0.3         16.52   \n",
              "2463929           0.0                    0.3         15.70   \n",
              "2463930           0.0                    0.3         35.06   \n",
              "\n",
              "         congestion_surcharge  airport_fee   duration  \n",
              "0                         2.5          0.0  17.816667  \n",
              "1                         0.0          0.0   8.400000  \n",
              "2                         0.0          0.0   8.966667  \n",
              "3                         2.5          0.0  10.033333  \n",
              "4                         2.5          0.0  37.533333  \n",
              "...                       ...          ...        ...  \n",
              "2463926                   NaN          NaN   5.966667  \n",
              "2463927                   NaN          NaN  10.650000  \n",
              "2463928                   NaN          NaN  11.000000  \n",
              "2463929                   NaN          NaN  12.050000  \n",
              "2463930                   NaN          NaN  27.000000  \n",
              "\n",
              "[2421440 rows x 20 columns]"
            ],
            "text/html": [
              "\n",
              "  <div id=\"df-17d10e47-0bc6-4673-b407-f9bcff2da7bf\">\n",
              "    <div class=\"colab-df-container\">\n",
              "      <div>\n",
              "<style scoped>\n",
              "    .dataframe tbody tr th:only-of-type {\n",
              "        vertical-align: middle;\n",
              "    }\n",
              "\n",
              "    .dataframe tbody tr th {\n",
              "        vertical-align: top;\n",
              "    }\n",
              "\n",
              "    .dataframe thead th {\n",
              "        text-align: right;\n",
              "    }\n",
              "</style>\n",
              "<table border=\"1\" class=\"dataframe\">\n",
              "  <thead>\n",
              "    <tr style=\"text-align: right;\">\n",
              "      <th></th>\n",
              "      <th>VendorID</th>\n",
              "      <th>tpep_pickup_datetime</th>\n",
              "      <th>tpep_dropoff_datetime</th>\n",
              "      <th>passenger_count</th>\n",
              "      <th>trip_distance</th>\n",
              "      <th>RatecodeID</th>\n",
              "      <th>store_and_fwd_flag</th>\n",
              "      <th>PULocationID</th>\n",
              "      <th>DOLocationID</th>\n",
              "      <th>payment_type</th>\n",
              "      <th>fare_amount</th>\n",
              "      <th>extra</th>\n",
              "      <th>mta_tax</th>\n",
              "      <th>tip_amount</th>\n",
              "      <th>tolls_amount</th>\n",
              "      <th>improvement_surcharge</th>\n",
              "      <th>total_amount</th>\n",
              "      <th>congestion_surcharge</th>\n",
              "      <th>airport_fee</th>\n",
              "      <th>duration</th>\n",
              "    </tr>\n",
              "  </thead>\n",
              "  <tbody>\n",
              "    <tr>\n",
              "      <th>0</th>\n",
              "      <td>1</td>\n",
              "      <td>2022-01-01 00:35:40</td>\n",
              "      <td>2022-01-01 00:53:29</td>\n",
              "      <td>2.0</td>\n",
              "      <td>3.80</td>\n",
              "      <td>1.0</td>\n",
              "      <td>N</td>\n",
              "      <td>142</td>\n",
              "      <td>236</td>\n",
              "      <td>1</td>\n",
              "      <td>14.50</td>\n",
              "      <td>3.0</td>\n",
              "      <td>0.5</td>\n",
              "      <td>3.65</td>\n",
              "      <td>0.0</td>\n",
              "      <td>0.3</td>\n",
              "      <td>21.95</td>\n",
              "      <td>2.5</td>\n",
              "      <td>0.0</td>\n",
              "      <td>17.816667</td>\n",
              "    </tr>\n",
              "    <tr>\n",
              "      <th>1</th>\n",
              "      <td>1</td>\n",
              "      <td>2022-01-01 00:33:43</td>\n",
              "      <td>2022-01-01 00:42:07</td>\n",
              "      <td>1.0</td>\n",
              "      <td>2.10</td>\n",
              "      <td>1.0</td>\n",
              "      <td>N</td>\n",
              "      <td>236</td>\n",
              "      <td>42</td>\n",
              "      <td>1</td>\n",
              "      <td>8.00</td>\n",
              "      <td>0.5</td>\n",
              "      <td>0.5</td>\n",
              "      <td>4.00</td>\n",
              "      <td>0.0</td>\n",
              "      <td>0.3</td>\n",
              "      <td>13.30</td>\n",
              "      <td>0.0</td>\n",
              "      <td>0.0</td>\n",
              "      <td>8.400000</td>\n",
              "    </tr>\n",
              "    <tr>\n",
              "      <th>2</th>\n",
              "      <td>2</td>\n",
              "      <td>2022-01-01 00:53:21</td>\n",
              "      <td>2022-01-01 01:02:19</td>\n",
              "      <td>1.0</td>\n",
              "      <td>0.97</td>\n",
              "      <td>1.0</td>\n",
              "      <td>N</td>\n",
              "      <td>166</td>\n",
              "      <td>166</td>\n",
              "      <td>1</td>\n",
              "      <td>7.50</td>\n",
              "      <td>0.5</td>\n",
              "      <td>0.5</td>\n",
              "      <td>1.76</td>\n",
              "      <td>0.0</td>\n",
              "      <td>0.3</td>\n",
              "      <td>10.56</td>\n",
              "      <td>0.0</td>\n",
              "      <td>0.0</td>\n",
              "      <td>8.966667</td>\n",
              "    </tr>\n",
              "    <tr>\n",
              "      <th>3</th>\n",
              "      <td>2</td>\n",
              "      <td>2022-01-01 00:25:21</td>\n",
              "      <td>2022-01-01 00:35:23</td>\n",
              "      <td>1.0</td>\n",
              "      <td>1.09</td>\n",
              "      <td>1.0</td>\n",
              "      <td>N</td>\n",
              "      <td>114</td>\n",
              "      <td>68</td>\n",
              "      <td>2</td>\n",
              "      <td>8.00</td>\n",
              "      <td>0.5</td>\n",
              "      <td>0.5</td>\n",
              "      <td>0.00</td>\n",
              "      <td>0.0</td>\n",
              "      <td>0.3</td>\n",
              "      <td>11.80</td>\n",
              "      <td>2.5</td>\n",
              "      <td>0.0</td>\n",
              "      <td>10.033333</td>\n",
              "    </tr>\n",
              "    <tr>\n",
              "      <th>4</th>\n",
              "      <td>2</td>\n",
              "      <td>2022-01-01 00:36:48</td>\n",
              "      <td>2022-01-01 01:14:20</td>\n",
              "      <td>1.0</td>\n",
              "      <td>4.30</td>\n",
              "      <td>1.0</td>\n",
              "      <td>N</td>\n",
              "      <td>68</td>\n",
              "      <td>163</td>\n",
              "      <td>1</td>\n",
              "      <td>23.50</td>\n",
              "      <td>0.5</td>\n",
              "      <td>0.5</td>\n",
              "      <td>3.00</td>\n",
              "      <td>0.0</td>\n",
              "      <td>0.3</td>\n",
              "      <td>30.30</td>\n",
              "      <td>2.5</td>\n",
              "      <td>0.0</td>\n",
              "      <td>37.533333</td>\n",
              "    </tr>\n",
              "    <tr>\n",
              "      <th>...</th>\n",
              "      <td>...</td>\n",
              "      <td>...</td>\n",
              "      <td>...</td>\n",
              "      <td>...</td>\n",
              "      <td>...</td>\n",
              "      <td>...</td>\n",
              "      <td>...</td>\n",
              "      <td>...</td>\n",
              "      <td>...</td>\n",
              "      <td>...</td>\n",
              "      <td>...</td>\n",
              "      <td>...</td>\n",
              "      <td>...</td>\n",
              "      <td>...</td>\n",
              "      <td>...</td>\n",
              "      <td>...</td>\n",
              "      <td>...</td>\n",
              "      <td>...</td>\n",
              "      <td>...</td>\n",
              "      <td>...</td>\n",
              "    </tr>\n",
              "    <tr>\n",
              "      <th>2463926</th>\n",
              "      <td>2</td>\n",
              "      <td>2022-01-31 23:36:53</td>\n",
              "      <td>2022-01-31 23:42:51</td>\n",
              "      <td>NaN</td>\n",
              "      <td>1.32</td>\n",
              "      <td>NaN</td>\n",
              "      <td>None</td>\n",
              "      <td>90</td>\n",
              "      <td>170</td>\n",
              "      <td>0</td>\n",
              "      <td>8.00</td>\n",
              "      <td>0.0</td>\n",
              "      <td>0.5</td>\n",
              "      <td>2.39</td>\n",
              "      <td>0.0</td>\n",
              "      <td>0.3</td>\n",
              "      <td>13.69</td>\n",
              "      <td>NaN</td>\n",
              "      <td>NaN</td>\n",
              "      <td>5.966667</td>\n",
              "    </tr>\n",
              "    <tr>\n",
              "      <th>2463927</th>\n",
              "      <td>2</td>\n",
              "      <td>2022-01-31 23:44:22</td>\n",
              "      <td>2022-01-31 23:55:01</td>\n",
              "      <td>NaN</td>\n",
              "      <td>4.19</td>\n",
              "      <td>NaN</td>\n",
              "      <td>None</td>\n",
              "      <td>107</td>\n",
              "      <td>75</td>\n",
              "      <td>0</td>\n",
              "      <td>16.80</td>\n",
              "      <td>0.0</td>\n",
              "      <td>0.5</td>\n",
              "      <td>4.35</td>\n",
              "      <td>0.0</td>\n",
              "      <td>0.3</td>\n",
              "      <td>24.45</td>\n",
              "      <td>NaN</td>\n",
              "      <td>NaN</td>\n",
              "      <td>10.650000</td>\n",
              "    </tr>\n",
              "    <tr>\n",
              "      <th>2463928</th>\n",
              "      <td>2</td>\n",
              "      <td>2022-01-31 23:39:00</td>\n",
              "      <td>2022-01-31 23:50:00</td>\n",
              "      <td>NaN</td>\n",
              "      <td>2.10</td>\n",
              "      <td>NaN</td>\n",
              "      <td>None</td>\n",
              "      <td>113</td>\n",
              "      <td>246</td>\n",
              "      <td>0</td>\n",
              "      <td>11.22</td>\n",
              "      <td>0.0</td>\n",
              "      <td>0.5</td>\n",
              "      <td>2.00</td>\n",
              "      <td>0.0</td>\n",
              "      <td>0.3</td>\n",
              "      <td>16.52</td>\n",
              "      <td>NaN</td>\n",
              "      <td>NaN</td>\n",
              "      <td>11.000000</td>\n",
              "    </tr>\n",
              "    <tr>\n",
              "      <th>2463929</th>\n",
              "      <td>2</td>\n",
              "      <td>2022-01-31 23:36:42</td>\n",
              "      <td>2022-01-31 23:48:45</td>\n",
              "      <td>NaN</td>\n",
              "      <td>2.92</td>\n",
              "      <td>NaN</td>\n",
              "      <td>None</td>\n",
              "      <td>148</td>\n",
              "      <td>164</td>\n",
              "      <td>0</td>\n",
              "      <td>12.40</td>\n",
              "      <td>0.0</td>\n",
              "      <td>0.5</td>\n",
              "      <td>0.00</td>\n",
              "      <td>0.0</td>\n",
              "      <td>0.3</td>\n",
              "      <td>15.70</td>\n",
              "      <td>NaN</td>\n",
              "      <td>NaN</td>\n",
              "      <td>12.050000</td>\n",
              "    </tr>\n",
              "    <tr>\n",
              "      <th>2463930</th>\n",
              "      <td>2</td>\n",
              "      <td>2022-01-31 23:46:00</td>\n",
              "      <td>2022-02-01 00:13:00</td>\n",
              "      <td>NaN</td>\n",
              "      <td>8.94</td>\n",
              "      <td>NaN</td>\n",
              "      <td>None</td>\n",
              "      <td>186</td>\n",
              "      <td>181</td>\n",
              "      <td>0</td>\n",
              "      <td>25.48</td>\n",
              "      <td>0.0</td>\n",
              "      <td>0.5</td>\n",
              "      <td>6.28</td>\n",
              "      <td>0.0</td>\n",
              "      <td>0.3</td>\n",
              "      <td>35.06</td>\n",
              "      <td>NaN</td>\n",
              "      <td>NaN</td>\n",
              "      <td>27.000000</td>\n",
              "    </tr>\n",
              "  </tbody>\n",
              "</table>\n",
              "<p>2421440 rows × 20 columns</p>\n",
              "</div>\n",
              "      <button class=\"colab-df-convert\" onclick=\"convertToInteractive('df-17d10e47-0bc6-4673-b407-f9bcff2da7bf')\"\n",
              "              title=\"Convert this dataframe to an interactive table.\"\n",
              "              style=\"display:none;\">\n",
              "        \n",
              "  <svg xmlns=\"http://www.w3.org/2000/svg\" height=\"24px\"viewBox=\"0 0 24 24\"\n",
              "       width=\"24px\">\n",
              "    <path d=\"M0 0h24v24H0V0z\" fill=\"none\"/>\n",
              "    <path d=\"M18.56 5.44l.94 2.06.94-2.06 2.06-.94-2.06-.94-.94-2.06-.94 2.06-2.06.94zm-11 1L8.5 8.5l.94-2.06 2.06-.94-2.06-.94L8.5 2.5l-.94 2.06-2.06.94zm10 10l.94 2.06.94-2.06 2.06-.94-2.06-.94-.94-2.06-.94 2.06-2.06.94z\"/><path d=\"M17.41 7.96l-1.37-1.37c-.4-.4-.92-.59-1.43-.59-.52 0-1.04.2-1.43.59L10.3 9.45l-7.72 7.72c-.78.78-.78 2.05 0 2.83L4 21.41c.39.39.9.59 1.41.59.51 0 1.02-.2 1.41-.59l7.78-7.78 2.81-2.81c.8-.78.8-2.07 0-2.86zM5.41 20L4 18.59l7.72-7.72 1.47 1.35L5.41 20z\"/>\n",
              "  </svg>\n",
              "      </button>\n",
              "      \n",
              "  <style>\n",
              "    .colab-df-container {\n",
              "      display:flex;\n",
              "      flex-wrap:wrap;\n",
              "      gap: 12px;\n",
              "    }\n",
              "\n",
              "    .colab-df-convert {\n",
              "      background-color: #E8F0FE;\n",
              "      border: none;\n",
              "      border-radius: 50%;\n",
              "      cursor: pointer;\n",
              "      display: none;\n",
              "      fill: #1967D2;\n",
              "      height: 32px;\n",
              "      padding: 0 0 0 0;\n",
              "      width: 32px;\n",
              "    }\n",
              "\n",
              "    .colab-df-convert:hover {\n",
              "      background-color: #E2EBFA;\n",
              "      box-shadow: 0px 1px 2px rgba(60, 64, 67, 0.3), 0px 1px 3px 1px rgba(60, 64, 67, 0.15);\n",
              "      fill: #174EA6;\n",
              "    }\n",
              "\n",
              "    [theme=dark] .colab-df-convert {\n",
              "      background-color: #3B4455;\n",
              "      fill: #D2E3FC;\n",
              "    }\n",
              "\n",
              "    [theme=dark] .colab-df-convert:hover {\n",
              "      background-color: #434B5C;\n",
              "      box-shadow: 0px 1px 3px 1px rgba(0, 0, 0, 0.15);\n",
              "      filter: drop-shadow(0px 1px 2px rgba(0, 0, 0, 0.3));\n",
              "      fill: #FFFFFF;\n",
              "    }\n",
              "  </style>\n",
              "\n",
              "      <script>\n",
              "        const buttonEl =\n",
              "          document.querySelector('#df-17d10e47-0bc6-4673-b407-f9bcff2da7bf button.colab-df-convert');\n",
              "        buttonEl.style.display =\n",
              "          google.colab.kernel.accessAllowed ? 'block' : 'none';\n",
              "\n",
              "        async function convertToInteractive(key) {\n",
              "          const element = document.querySelector('#df-17d10e47-0bc6-4673-b407-f9bcff2da7bf');\n",
              "          const dataTable =\n",
              "            await google.colab.kernel.invokeFunction('convertToInteractive',\n",
              "                                                     [key], {});\n",
              "          if (!dataTable) return;\n",
              "\n",
              "          const docLinkHtml = 'Like what you see? Visit the ' +\n",
              "            '<a target=\"_blank\" href=https://colab.research.google.com/notebooks/data_table.ipynb>data table notebook</a>'\n",
              "            + ' to learn more about interactive tables.';\n",
              "          element.innerHTML = '';\n",
              "          dataTable['output_type'] = 'display_data';\n",
              "          await google.colab.output.renderOutput(dataTable, element);\n",
              "          const docLink = document.createElement('div');\n",
              "          docLink.innerHTML = docLinkHtml;\n",
              "          element.appendChild(docLink);\n",
              "        }\n",
              "      </script>\n",
              "    </div>\n",
              "  </div>\n",
              "  "
            ]
          },
          "metadata": {},
          "execution_count": 9
        }
      ],
      "source": [
        "df_jan"
      ]
    },
    {
      "cell_type": "code",
      "execution_count": 10,
      "id": "cd7f2f32-20fd-460e-9fc1-9b96106f4c8d",
      "metadata": {
        "id": "cd7f2f32-20fd-460e-9fc1-9b96106f4c8d"
      },
      "outputs": [],
      "source": [
        "categorical = ['PULocationID','DOLocationID']\n",
        "numerical = ['trip_distance']"
      ]
    },
    {
      "cell_type": "code",
      "execution_count": 11,
      "id": "efdbc8ca-c086-44e3-8940-e3b2fd1a45ed",
      "metadata": {
        "id": "efdbc8ca-c086-44e3-8940-e3b2fd1a45ed"
      },
      "outputs": [],
      "source": [
        "df_jan[categorical] = df_jan[categorical].astype(str)"
      ]
    },
    {
      "cell_type": "code",
      "execution_count": 12,
      "id": "9c932584-c243-4c4f-8eab-06fa9cece4d1",
      "metadata": {
        "id": "9c932584-c243-4c4f-8eab-06fa9cece4d1"
      },
      "outputs": [],
      "source": [
        "train_dicts = df_jan[categorical+numerical].to_dict(orient = 'records')"
      ]
    },
    {
      "cell_type": "code",
      "execution_count": 15,
      "id": "f957cb4d-a5de-4c8a-af6b-5d8768ed7110",
      "metadata": {
        "id": "f957cb4d-a5de-4c8a-af6b-5d8768ed7110"
      },
      "outputs": [],
      "source": [
        "dv = DictVectorizer()"
      ]
    },
    {
      "cell_type": "code",
      "source": [
        "X_train = dv.fit_transform(train_dicts)"
      ],
      "metadata": {
        "id": "ekrBuqm1UQv2"
      },
      "id": "ekrBuqm1UQv2",
      "execution_count": 16,
      "outputs": []
    },
    {
      "cell_type": "code",
      "source": [
        "X_train"
      ],
      "metadata": {
        "colab": {
          "base_uri": "https://localhost:8080/"
        },
        "id": "QKZeEQRAV3yk",
        "outputId": "0f23af95-8428-4256-9883-4337d0a24c9a"
      },
      "id": "QKZeEQRAV3yk",
      "execution_count": 17,
      "outputs": [
        {
          "output_type": "execute_result",
          "data": {
            "text/plain": [
              "<2421440x516 sparse matrix of type '<class 'numpy.float64'>'\n",
              "\twith 7264320 stored elements in Compressed Sparse Row format>"
            ]
          },
          "metadata": {},
          "execution_count": 17
        }
      ]
    },
    {
      "cell_type": "code",
      "source": [
        "target = 'duration'\n",
        "X_train = df_jan[target].values"
      ],
      "metadata": {
        "id": "V2ZCG6rrV-lQ"
      },
      "id": "V2ZCG6rrV-lQ",
      "execution_count": 18,
      "outputs": []
    },
    {
      "cell_type": "code",
      "source": [
        "y_train"
      ],
      "metadata": {
        "colab": {
          "base_uri": "https://localhost:8080/"
        },
        "id": "5EZ86bcvWMoI",
        "outputId": "d25f1120-edc6-4ae4-b25c-f4f26c997cc8"
      },
      "id": "5EZ86bcvWMoI",
      "execution_count": 19,
      "outputs": [
        {
          "output_type": "execute_result",
          "data": {
            "text/plain": [
              "array([17.81666667,  8.4       ,  8.96666667, ..., 11.        ,\n",
              "       12.05      , 27.        ])"
            ]
          },
          "metadata": {},
          "execution_count": 19
        }
      ]
    },
    {
      "cell_type": "code",
      "source": [
        "from sklearn.linear_model import LinearRegression\n",
        "from sklearn.metrics import mean_squared_error"
      ],
      "metadata": {
        "id": "xwm52mObWOsv"
      },
      "id": "xwm52mObWOsv",
      "execution_count": 28,
      "outputs": []
    },
    {
      "cell_type": "code",
      "source": [
        "lr = LinearRegression()"
      ],
      "metadata": {
        "id": "G_LdmxvZWhiG"
      },
      "id": "G_LdmxvZWhiG",
      "execution_count": 22,
      "outputs": []
    },
    {
      "cell_type": "code",
      "source": [
        "lr.fit(X_train,y_train)"
      ],
      "metadata": {
        "colab": {
          "base_uri": "https://localhost:8080/",
          "height": 75
        },
        "id": "-mE1mjubWo_d",
        "outputId": "9ca7d4d2-f3a7-4578-e18c-d5fd45740da8"
      },
      "id": "-mE1mjubWo_d",
      "execution_count": 24,
      "outputs": [
        {
          "output_type": "execute_result",
          "data": {
            "text/plain": [
              "LinearRegression()"
            ],
            "text/html": [
              "<style>#sk-container-id-1 {color: black;background-color: white;}#sk-container-id-1 pre{padding: 0;}#sk-container-id-1 div.sk-toggleable {background-color: white;}#sk-container-id-1 label.sk-toggleable__label {cursor: pointer;display: block;width: 100%;margin-bottom: 0;padding: 0.3em;box-sizing: border-box;text-align: center;}#sk-container-id-1 label.sk-toggleable__label-arrow:before {content: \"▸\";float: left;margin-right: 0.25em;color: #696969;}#sk-container-id-1 label.sk-toggleable__label-arrow:hover:before {color: black;}#sk-container-id-1 div.sk-estimator:hover label.sk-toggleable__label-arrow:before {color: black;}#sk-container-id-1 div.sk-toggleable__content {max-height: 0;max-width: 0;overflow: hidden;text-align: left;background-color: #f0f8ff;}#sk-container-id-1 div.sk-toggleable__content pre {margin: 0.2em;color: black;border-radius: 0.25em;background-color: #f0f8ff;}#sk-container-id-1 input.sk-toggleable__control:checked~div.sk-toggleable__content {max-height: 200px;max-width: 100%;overflow: auto;}#sk-container-id-1 input.sk-toggleable__control:checked~label.sk-toggleable__label-arrow:before {content: \"▾\";}#sk-container-id-1 div.sk-estimator input.sk-toggleable__control:checked~label.sk-toggleable__label {background-color: #d4ebff;}#sk-container-id-1 div.sk-label input.sk-toggleable__control:checked~label.sk-toggleable__label {background-color: #d4ebff;}#sk-container-id-1 input.sk-hidden--visually {border: 0;clip: rect(1px 1px 1px 1px);clip: rect(1px, 1px, 1px, 1px);height: 1px;margin: -1px;overflow: hidden;padding: 0;position: absolute;width: 1px;}#sk-container-id-1 div.sk-estimator {font-family: monospace;background-color: #f0f8ff;border: 1px dotted black;border-radius: 0.25em;box-sizing: border-box;margin-bottom: 0.5em;}#sk-container-id-1 div.sk-estimator:hover {background-color: #d4ebff;}#sk-container-id-1 div.sk-parallel-item::after {content: \"\";width: 100%;border-bottom: 1px solid gray;flex-grow: 1;}#sk-container-id-1 div.sk-label:hover label.sk-toggleable__label {background-color: #d4ebff;}#sk-container-id-1 div.sk-serial::before {content: \"\";position: absolute;border-left: 1px solid gray;box-sizing: border-box;top: 0;bottom: 0;left: 50%;z-index: 0;}#sk-container-id-1 div.sk-serial {display: flex;flex-direction: column;align-items: center;background-color: white;padding-right: 0.2em;padding-left: 0.2em;position: relative;}#sk-container-id-1 div.sk-item {position: relative;z-index: 1;}#sk-container-id-1 div.sk-parallel {display: flex;align-items: stretch;justify-content: center;background-color: white;position: relative;}#sk-container-id-1 div.sk-item::before, #sk-container-id-1 div.sk-parallel-item::before {content: \"\";position: absolute;border-left: 1px solid gray;box-sizing: border-box;top: 0;bottom: 0;left: 50%;z-index: -1;}#sk-container-id-1 div.sk-parallel-item {display: flex;flex-direction: column;z-index: 1;position: relative;background-color: white;}#sk-container-id-1 div.sk-parallel-item:first-child::after {align-self: flex-end;width: 50%;}#sk-container-id-1 div.sk-parallel-item:last-child::after {align-self: flex-start;width: 50%;}#sk-container-id-1 div.sk-parallel-item:only-child::after {width: 0;}#sk-container-id-1 div.sk-dashed-wrapped {border: 1px dashed gray;margin: 0 0.4em 0.5em 0.4em;box-sizing: border-box;padding-bottom: 0.4em;background-color: white;}#sk-container-id-1 div.sk-label label {font-family: monospace;font-weight: bold;display: inline-block;line-height: 1.2em;}#sk-container-id-1 div.sk-label-container {text-align: center;}#sk-container-id-1 div.sk-container {/* jupyter's `normalize.less` sets `[hidden] { display: none; }` but bootstrap.min.css set `[hidden] { display: none !important; }` so we also need the `!important` here to be able to override the default hidden behavior on the sphinx rendered scikit-learn.org. See: https://github.com/scikit-learn/scikit-learn/issues/21755 */display: inline-block !important;position: relative;}#sk-container-id-1 div.sk-text-repr-fallback {display: none;}</style><div id=\"sk-container-id-1\" class=\"sk-top-container\"><div class=\"sk-text-repr-fallback\"><pre>LinearRegression()</pre><b>In a Jupyter environment, please rerun this cell to show the HTML representation or trust the notebook. <br />On GitHub, the HTML representation is unable to render, please try loading this page with nbviewer.org.</b></div><div class=\"sk-container\" hidden><div class=\"sk-item\"><div class=\"sk-estimator sk-toggleable\"><input class=\"sk-toggleable__control sk-hidden--visually\" id=\"sk-estimator-id-1\" type=\"checkbox\" checked><label for=\"sk-estimator-id-1\" class=\"sk-toggleable__label sk-toggleable__label-arrow\">LinearRegression</label><div class=\"sk-toggleable__content\"><pre>LinearRegression()</pre></div></div></div></div></div>"
            ]
          },
          "metadata": {},
          "execution_count": 24
        }
      ]
    },
    {
      "cell_type": "code",
      "source": [
        "y_pred = lr.predict(X_train)"
      ],
      "metadata": {
        "id": "dYRD0ZwwWtc_"
      },
      "id": "dYRD0ZwwWtc_",
      "execution_count": 26,
      "outputs": []
    },
    {
      "cell_type": "code",
      "source": [
        "mean_squared_error(y_train,y_pred,squared = False)"
      ],
      "metadata": {
        "colab": {
          "base_uri": "https://localhost:8080/"
        },
        "id": "wwfmCgZXW0Al",
        "outputId": "37e0f1ed-07bd-4788-cf8b-3929f9901dc7"
      },
      "id": "wwfmCgZXW0Al",
      "execution_count": 29,
      "outputs": [
        {
          "output_type": "execute_result",
          "data": {
            "text/plain": [
              "7.001496179427095"
            ]
          },
          "metadata": {},
          "execution_count": 29
        }
      ]
    },
    {
      "cell_type": "code",
      "source": [],
      "metadata": {
        "id": "AnBvxlPUXPrd"
      },
      "id": "AnBvxlPUXPrd",
      "execution_count": null,
      "outputs": []
    }
  ],
  "metadata": {
    "kernelspec": {
      "display_name": "Python 3",
      "language": "python",
      "name": "python3"
    },
    "language_info": {
      "codemirror_mode": {
        "name": "ipython",
        "version": 3
      },
      "file_extension": ".py",
      "mimetype": "text/x-python",
      "name": "python",
      "nbconvert_exporter": "python",
      "pygments_lexer": "ipython3",
      "version": "3.8.8"
    },
    "colab": {
      "provenance": []
    }
  },
  "nbformat": 4,
  "nbformat_minor": 5
}